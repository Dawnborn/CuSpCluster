{
 "cells": [
  {
   "cell_type": "code",
   "execution_count": 2,
   "id": "0a8a4702",
   "metadata": {
    "ExecuteTime": {
     "end_time": "2021-08-24T08:01:54.969799Z",
     "start_time": "2021-08-24T08:01:54.966914Z"
    }
   },
   "outputs": [],
   "source": [
    "import seaborn as sns\n",
    "import matplotlib.pyplot as plt\n",
    "from scipy.sparse import rand\n",
    "import numpy as np\n",
    "import pandas as pd "
   ]
  },
  {
   "cell_type": "code",
   "execution_count": 3,
   "id": "c20ced7d",
   "metadata": {
    "ExecuteTime": {
     "end_time": "2021-08-24T08:01:56.019165Z",
     "start_time": "2021-08-24T08:01:56.005659Z"
    }
   },
   "outputs": [],
   "source": [
    "A=rand(10, 10, density=0.2, format='csr', random_state=np.random.randint(0, 2))"
   ]
  },
  {
   "cell_type": "code",
   "execution_count": 4,
   "id": "9d01664b",
   "metadata": {
    "ExecuteTime": {
     "end_time": "2021-08-24T08:01:58.005682Z",
     "start_time": "2021-08-24T08:01:58.002351Z"
    }
   },
   "outputs": [
    {
     "name": "stdout",
     "output_type": "stream",
     "text": [
      "[1 8 3 5 8 3 5 8 9 3 9 4 8 6 3 5 1 7 3 6]\n",
      "[ 0  2  5  9 11 13 14 16 17 18 20]\n",
      "[0.35653172 0.04534573 0.6477494  0.12631489 0.02980136 0.69020459\n",
      " 0.63783648 0.89213587 0.65229888 0.79240359 0.88312548 0.35393909\n",
      " 0.13996612 0.53842469 0.44798018 0.57100856 0.54078819 0.76323305\n",
      " 0.36126102 0.37758434]\n",
      "(10, 10)\n"
     ]
    }
   ],
   "source": [
    "print(A.indices) #col_idx (2000,)\n",
    "print(A.indptr) #row_ptr (11,)\n",
    "print(A.data) # csr_value (20,)\n",
    "print(A.shape)"
   ]
  },
  {
   "cell_type": "code",
   "execution_count": 24,
   "id": "19056e5e",
   "metadata": {
    "ExecuteTime": {
     "end_time": "2021-08-14T07:24:45.731630Z",
     "start_time": "2021-08-14T07:24:45.725509Z"
    }
   },
   "outputs": [],
   "source": [
    "# Acsv = pd.DataFrame({'row_ptr':A.indptr,'col_idx':A.indices})"
   ]
  },
  {
   "cell_type": "markdown",
   "id": "65feff6f",
   "metadata": {
    "ExecuteTime": {
     "end_time": "2021-08-14T07:25:09.516777Z",
     "start_time": "2021-08-14T07:25:09.504888Z"
    }
   },
   "source": [
    "f = open('csr_test.csv','w')\n",
    "f.write(A.indices)"
   ]
  },
  {
   "cell_type": "code",
   "execution_count": 9,
   "id": "fb434d48",
   "metadata": {
    "ExecuteTime": {
     "end_time": "2021-08-24T08:09:40.455285Z",
     "start_time": "2021-08-24T08:09:40.444953Z"
    }
   },
   "outputs": [],
   "source": [
    "np.savetxt('./tcsr_values.txt',A.data,fmt=\"%f\")\n",
    "np.savetxt('./tcsr_ptr.txt',A.indptr,fmt=\"%d\")\n",
    "np.savetxt('./tcsr_col.txt',A.indices,fmt=\"%d\")"
   ]
  },
  {
   "cell_type": "markdown",
   "id": "215394ed",
   "metadata": {},
   "source": [
    "# 按照稠密矩阵聚类并保存"
   ]
  },
  {
   "cell_type": "code",
   "execution_count": 10,
   "id": "b67d1bba",
   "metadata": {
    "ExecuteTime": {
     "end_time": "2021-08-24T08:09:43.164334Z",
     "start_time": "2021-08-24T08:09:42.895347Z"
    }
   },
   "outputs": [
    {
     "data": {
      "text/plain": [
       "<AxesSubplot:>"
      ]
     },
     "execution_count": 10,
     "metadata": {},
     "output_type": "execute_result"
    },
    {
     "data": {
      "image/png": "[encoded data removed]",
      "text/plain": [
       "<Figure size 432x288 with 2 Axes>"
      ]
     },
     "metadata": {
      "needs_background": "light"
     },
     "output_type": "display_data"
    }
   ],
   "source": [
    "Ad = A.todense()\n",
    "sns.heatmap(Ad)"
   ]
  },
  {
   "cell_type": "code",
   "execution_count": 11,
   "id": "64fd0428",
   "metadata": {
    "ExecuteTime": {
     "end_time": "2021-08-24T08:09:54.635330Z",
     "start_time": "2021-08-24T08:09:54.222977Z"
    },
    "scrolled": true
   },
   "outputs": [
    {
     "data": {
      "text/plain": [
       "array([3, 7, 2, 4, 6, 0, 1, 9, 5, 8], dtype=int32)"
      ]
     },
     "execution_count": 11,
     "metadata": {},
     "output_type": "execute_result"
    }
   ],
   "source": [
    "from sklearn.cluster import KMeans\n",
    "KMcluster = KMeans(n_clusters=10,init=).fit(Ad)\n",
    "KMcluster.labels_"
   ]
  },
  {
   "cell_type": "code",
   "execution_count": 12,
   "id": "d7628bce",
   "metadata": {
    "ExecuteTime": {
     "end_time": "2021-08-24T08:10:44.545840Z",
     "start_time": "2021-08-24T08:10:44.542639Z"
    }
   },
   "outputs": [],
   "source": [
    "np.savetxt('./tcsr_results.txt',KMcluster.labels_,fmt='%d')"
   ]
  },
  {
   "cell_type": "code",
   "execution_count": 13,
   "id": "0f43aed3",
   "metadata": {
    "ExecuteTime": {
     "end_time": "2021-08-24T08:15:27.940072Z",
     "start_time": "2021-08-24T08:15:27.933145Z"
    }
   },
   "outputs": [],
   "source": [
    "KMeans?"
   ]
  }
 ],
 "metadata": {
  "kernelspec": {
   "display_name": "Python 3.8.8 64-bit ('base': conda)",
   "language": "python",
   "name": "python388jvsc74a57bd00577a15bdfbc6b2dba44022cded5289d04ddd94c59df95679d0380b6aefb3fcd"
  },
  "language_info": {
   "codemirror_mode": {
    "name": "ipython",
    "version": 3
   },
   "file_extension": ".py",
   "mimetype": "text/x-python",
   "name": "python",
   "nbconvert_exporter": "python",
   "pygments_lexer": "ipython3",
   "version": "3.8.8"
  },
  "toc": {
   "base_numbering": 1,
   "nav_menu": {},
   "number_sections": true,
   "sideBar": true,
   "skip_h1_title": false,
   "title_cell": "Table of Contents",
   "title_sidebar": "Contents",
   "toc_cell": false,
   "toc_position": {},
   "toc_section_display": true,
   "toc_window_display": false
  },
  "varInspector": {
   "cols": {
    "lenName": 16,
    "lenType": 16,
    "lenVar": 40
   },
   "kernels_config": {
    "python": {
     "delete_cmd_postfix": "",
     "delete_cmd_prefix": "del ",
     "library": "var_list.py",
     "varRefreshCmd": "print(var_dic_list())"
    },
    "r": {
     "delete_cmd_postfix": ") ",
     "delete_cmd_prefix": "rm(",
     "library": "var_list.r",
     "varRefreshCmd": "cat(var_dic_list()) "
    }
   },
   "types_to_exclude": [
    "module",
    "function",
    "builtin_function_or_method",
    "instance",
    "_Feature"
   ],
   "window_display": false
  }
 },
 "nbformat": 4,
 "nbformat_minor": 5
}
