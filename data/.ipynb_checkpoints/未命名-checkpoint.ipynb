{
 "cells": [
  {
   "cell_type": "code",
   "execution_count": 3,
   "id": "0a8a4702",
   "metadata": {
    "ExecuteTime": {
     "end_time": "2021-08-17T14:01:18.414266Z",
     "start_time": "2021-08-17T14:01:18.410751Z"
    }
   },
   "outputs": [],
   "source": [
    "import seaborn as sns\n",
    "import matplotlib.pyplot as plt\n",
    "from scipy.sparse import rand\n",
    "import numpy as np\n",
    "import pandas as pd "
   ]
  },
  {
   "cell_type": "code",
   "execution_count": 4,
   "id": "c20ced7d",
   "metadata": {
    "ExecuteTime": {
     "end_time": "2021-08-17T14:01:19.270679Z",
     "start_time": "2021-08-17T14:01:19.264630Z"
    }
   },
   "outputs": [],
   "source": [
    "A=rand(10, 10, density=0.2, format='csr', random_state=np.random.randint(0, 2))"
   ]
  },
  {
   "cell_type": "code",
   "execution_count": 5,
   "id": "9d01664b",
   "metadata": {
    "ExecuteTime": {
     "end_time": "2021-08-17T14:01:21.298947Z",
     "start_time": "2021-08-17T14:01:21.289570Z"
    }
   },
   "outputs": [
    {
     "name": "stdout",
     "output_type": "stream",
     "text": [
      "[3 0 2 9 1 3 5 7 9 2 5 5 7 9 1 2 8 0 0 7]\n",
      "[ 0  1  1  4  9 11 14 17 18 20 20]\n",
      "[0.56660145 0.4686512  0.26538949 0.31798318 0.0641475  0.09394051\n",
      " 0.11872772 0.28280696 0.73926358 0.52324805 0.12019656 0.97676109\n",
      " 0.60484552 0.2961402  0.03918779 0.09609841 0.97645947 0.69247212\n",
      " 0.5759465  0.41426299]\n",
      "(10, 10)\n"
     ]
    }
   ],
   "source": [
    "print(A.indices) #col_idx (2000,)\n",
    "print(A.indptr) #row_ptr (11,)\n",
    "print(A.data) # (20,)\n",
    "print(A.shape)"
   ]
  },
  {
   "cell_type": "code",
   "execution_count": 9,
   "id": "41685520",
   "metadata": {
    "ExecuteTime": {
     "end_time": "2021-08-17T14:02:04.178163Z",
     "start_time": "2021-08-17T14:02:04.174741Z"
    }
   },
   "outputs": [
    {
     "data": {
      "text/plain": [
       "(20,)"
      ]
     },
     "execution_count": 9,
     "metadata": {},
     "output_type": "execute_result"
    }
   ],
   "source": [
    "A.data.shape"
   ]
  },
  {
   "cell_type": "code",
   "execution_count": 24,
   "id": "19056e5e",
   "metadata": {
    "ExecuteTime": {
     "end_time": "2021-08-14T07:24:45.731630Z",
     "start_time": "2021-08-14T07:24:45.725509Z"
    }
   },
   "outputs": [],
   "source": [
    "# Acsv = pd.DataFrame({'row_ptr':A.indptr,'col_idx':A.indices})"
   ]
  },
  {
   "cell_type": "markdown",
   "id": "65feff6f",
   "metadata": {
    "ExecuteTime": {
     "end_time": "2021-08-14T07:25:09.516777Z",
     "start_time": "2021-08-14T07:25:09.504888Z"
    }
   },
   "source": [
    "f = open('csr_test.csv','w')\n",
    "f.write(A.indices)"
   ]
  },
  {
   "cell_type": "code",
   "execution_count": 11,
   "id": "fb434d48",
   "metadata": {
    "ExecuteTime": {
     "end_time": "2021-08-17T14:05:43.959604Z",
     "start_time": "2021-08-17T14:05:43.948181Z"
    }
   },
   "outputs": [],
   "source": [
    "np.savetxt('./data/tcsr_values.txt',A.data,fmt=\"%.04f\")\n",
    "np.savetxt('./data/tcsr_ptr.txt',A.indptr,fmt=\"%d\")\n",
    "np.savetxt('./data/tcsr_col.txt',A.indices,fmt=\"%d\")"
   ]
  },
  {
   "cell_type": "markdown",
   "id": "215394ed",
   "metadata": {},
   "source": [
    "# 按照稠密矩阵聚类并保存"
   ]
  },
  {
   "cell_type": "code",
   "execution_count": 36,
   "id": "b67d1bba",
   "metadata": {
    "ExecuteTime": {
     "end_time": "2021-08-14T07:40:10.486399Z",
     "start_time": "2021-08-14T07:40:10.228058Z"
    }
   },
   "outputs": [
    {
     "data": {
      "text/plain": [
       "<AxesSubplot:>"
      ]
     },
     "execution_count": 36,
     "metadata": {},
     "output_type": "execute_result"
    },
    {
     "data": {
      "image/png": "[encoded data removed]",
      "text/plain": [
       "<Figure size 432x288 with 2 Axes>"
      ]
     },
     "metadata": {
      "needs_background": "light"
     },
     "output_type": "display_data"
    }
   ],
   "source": [
    "Ad = A.todense()\n",
    "sns.heatmap(Ad)"
   ]
  },
  {
   "cell_type": "code",
   "execution_count": 39,
   "id": "64fd0428",
   "metadata": {
    "ExecuteTime": {
     "end_time": "2021-08-14T07:48:53.622921Z",
     "start_time": "2021-08-14T07:48:53.544258Z"
    }
   },
   "outputs": [
    {
     "data": {
      "text/plain": [
       "array([8, 6, 2, 8, 2, 6, 7, 1, 0, 8, 2, 2, 2, 7, 6, 6, 2, 2, 0, 9, 6, 1,\n",
       "       2, 0, 3, 2, 2, 4, 1, 8, 2, 2, 4, 8, 7, 2, 2, 2, 9, 6, 5, 5, 7, 2,\n",
       "       8, 1, 2, 2, 5, 9, 9, 5, 7, 5, 5, 2, 7, 1, 8, 0, 9, 5, 4, 8, 7, 0,\n",
       "       2, 7, 2, 6, 6, 4, 2, 8, 7, 7, 8, 6, 3, 3, 5, 2, 2, 6, 9, 3, 7, 2,\n",
       "       2, 1, 2, 7, 2, 2, 2, 0, 6, 2, 5, 1, 2, 7, 0, 1, 2, 0, 1, 0, 4, 2,\n",
       "       4, 2, 1, 2, 9, 1, 7, 3, 2, 4, 9, 2, 5, 5, 8, 3, 6, 2, 5, 4, 1, 2,\n",
       "       3, 4, 8, 6, 1, 9, 6, 7, 3, 9, 2, 8, 3, 3, 1, 1, 2, 2, 1, 8, 0, 2,\n",
       "       2, 2, 2, 0, 5, 3, 3, 9, 4, 3, 4, 3, 2, 3, 5, 1, 3, 2, 3, 7, 8, 9,\n",
       "       2, 1, 2, 2, 2, 2, 8, 4, 2, 5, 3, 7, 2, 8, 2, 2, 9, 2, 9, 6, 5, 3,\n",
       "       2, 2, 7, 2, 7, 9, 6, 5, 2, 2, 6, 1, 5, 9, 8, 5, 6, 5, 3, 5, 1, 2,\n",
       "       1, 1, 1, 0, 2, 3, 5, 9, 8, 7, 7, 2, 8, 3, 1, 2, 2, 5, 8, 8, 7, 7,\n",
       "       5, 5, 2, 8, 2, 5, 6, 2, 2, 7, 0, 2, 2, 1, 2, 6, 2, 6, 6, 2, 3, 5,\n",
       "       3, 2, 4, 6, 4, 2, 9, 0, 9, 2, 1, 2, 1, 2, 1, 7, 1, 4, 9, 8, 2, 2,\n",
       "       1, 4, 1, 3, 8, 1, 6, 1, 2, 6, 9, 3, 5, 4, 9, 0, 2, 2, 2, 5, 2, 1,\n",
       "       3, 6, 8, 7, 3, 0, 5, 3, 4, 7, 4, 7, 5, 7, 2, 7, 2, 7, 4, 9, 8, 8,\n",
       "       2, 5, 6, 2, 2, 1, 5, 1, 0, 8, 8, 2, 1, 1, 6, 6, 2, 2, 1, 2, 2, 2,\n",
       "       8, 2, 5, 7, 7, 2, 3, 1, 7, 4, 9, 4, 9, 2, 4, 7, 7, 2, 1, 2, 5, 2,\n",
       "       1, 2, 8, 1, 2, 2, 3, 7, 7, 1, 2, 8, 3, 2, 9, 1, 6, 2, 3, 2, 2, 2,\n",
       "       2, 8, 0, 2, 5, 7, 7, 2, 3, 2, 5, 2, 1, 0, 2, 2, 4, 2, 2, 2, 2, 2,\n",
       "       4, 0, 2, 2, 5, 2, 8, 2, 6, 4, 1, 0, 4, 6, 3, 7, 2, 3, 3, 1, 6, 2,\n",
       "       8, 0, 8, 2, 1, 5, 2, 1, 1, 2, 0, 2, 4, 2, 6, 2, 5, 6, 5, 0, 2, 2,\n",
       "       7, 3, 7, 0, 2, 2, 8, 4, 7, 2, 2, 1, 2, 7, 2, 9, 1, 2, 2, 5, 2, 2,\n",
       "       1, 9, 2, 6, 3, 5, 9, 6, 2, 2, 3, 2, 8, 4, 9, 2, 4, 0, 2, 4, 2, 2,\n",
       "       9, 1, 3, 2, 3, 7, 8, 7, 0, 4, 1, 2, 7, 7, 9, 9, 2, 2, 2, 6, 1, 1,\n",
       "       2, 6, 0, 0, 9, 8, 9, 2, 3, 2, 2, 0, 3, 7, 0, 0, 8, 5, 3, 2, 2, 2,\n",
       "       5, 6, 1, 2, 4, 3, 2, 9, 2, 8, 5, 2, 3, 5, 0, 0, 2, 6, 2, 2, 8, 9,\n",
       "       6, 2, 6, 6, 3, 2, 0, 0, 2, 4, 1, 2, 7, 7, 7, 1, 2, 3, 7, 9, 8, 6,\n",
       "       4, 2, 8, 1, 9, 2, 3, 8, 1, 6, 9, 1, 4, 2, 4, 7, 2, 6, 2, 1, 9, 3,\n",
       "       2, 1, 7, 5, 9, 5, 4, 1, 0, 4, 2, 2, 7, 7, 2, 9, 2, 3, 6, 2, 2, 8,\n",
       "       6, 2, 9, 2, 1, 1, 1, 0, 0, 7, 8, 9, 1, 9, 4, 5, 2, 8, 2, 8, 2, 1,\n",
       "       9, 5, 1, 2, 2, 2, 2, 2, 9, 1, 6, 2, 5, 6, 9, 6, 4, 0, 2, 2, 5, 2,\n",
       "       4, 6, 8, 1, 6, 1, 9, 1, 3, 3, 2, 2, 2, 2, 2, 2, 2, 0, 4, 5, 6, 9,\n",
       "       2, 2, 6, 0, 2, 8, 3, 6, 1, 2, 4, 0, 2, 9, 3, 9, 3, 6, 8, 2, 2, 2,\n",
       "       2, 2, 1, 2, 9, 6, 3, 0, 7, 2, 1, 0, 2, 5, 3, 9, 2, 2, 2, 0, 2, 2,\n",
       "       2, 2, 0, 1, 8, 2, 2, 6, 8, 6, 2, 7, 6, 2, 2, 2, 2, 8, 2, 1, 3, 4,\n",
       "       2, 4, 5, 3, 5, 0, 2, 7, 1, 2, 5, 8, 0, 1, 2, 6, 2, 5, 2, 7, 5, 2,\n",
       "       2, 5, 8, 2, 1, 4, 2, 6, 2, 4, 6, 7, 1, 2, 0, 7, 4, 9, 7, 6, 5, 2,\n",
       "       3, 6, 8, 2, 7, 6, 1, 6, 3, 2, 2, 1, 2, 2, 0, 0, 1, 2, 0, 2, 6, 2,\n",
       "       4, 2, 2, 4, 0, 0, 2, 9, 0, 6, 2, 6, 2, 7, 2, 1, 2, 2, 7, 2, 9, 9,\n",
       "       0, 1, 2, 2, 4, 1, 7, 0, 2, 7, 6, 8, 2, 1, 2, 3, 2, 6, 4, 2, 2, 3,\n",
       "       2, 0, 2, 0, 2, 2, 0, 1, 6, 2, 3, 6, 4, 0, 9, 7, 6, 1, 3, 4, 7, 2,\n",
       "       2, 2, 9, 2, 2, 5, 9, 2, 0, 5, 6, 6, 2, 2, 6, 2, 2, 8, 6, 0, 7, 0,\n",
       "       2, 2, 2, 2, 7, 1, 3, 7, 2, 3, 5, 6, 6, 8, 8, 1, 2, 1, 2, 6, 0, 3,\n",
       "       1, 7, 0, 2, 9, 2, 2, 7, 1, 2, 1, 2, 3, 2, 2, 3, 9, 5, 1, 4, 3, 3,\n",
       "       2, 2, 2, 8, 4, 6, 6, 2, 1, 7, 0, 5, 4, 7, 7, 0, 7, 9, 3, 3, 1, 5,\n",
       "       3, 9, 2, 9, 0, 1, 9, 9, 7, 6], dtype=int32)"
      ]
     },
     "execution_count": 39,
     "metadata": {},
     "output_type": "execute_result"
    }
   ],
   "source": [
    "from sklearn.cluster import KMeans\n",
    "KMcluster = KMeans(n_clusters=10).fit(Ad)\n",
    "KMcluster.labels_"
   ]
  },
  {
   "cell_type": "code",
   "execution_count": null,
   "id": "d7628bce",
   "metadata": {},
   "outputs": [],
   "source": []
  }
 ],
 "metadata": {
  "kernelspec": {
   "display_name": "Python 3.8.8 64-bit ('base': conda)",
   "language": "python",
   "name": "python388jvsc74a57bd00577a15bdfbc6b2dba44022cded5289d04ddd94c59df95679d0380b6aefb3fcd"
  },
  "language_info": {
   "codemirror_mode": {
    "name": "ipython",
    "version": 3
   },
   "file_extension": ".py",
   "mimetype": "text/x-python",
   "name": "python",
   "nbconvert_exporter": "python",
   "pygments_lexer": "ipython3",
   "version": "3.8.8"
  },
  "toc": {
   "base_numbering": 1,
   "nav_menu": {},
   "number_sections": true,
   "sideBar": true,
   "skip_h1_title": false,
   "title_cell": "Table of Contents",
   "title_sidebar": "Contents",
   "toc_cell": false,
   "toc_position": {},
   "toc_section_display": true,
   "toc_window_display": false
  },
  "varInspector": {
   "cols": {
    "lenName": 16,
    "lenType": 16,
    "lenVar": 40
   },
   "kernels_config": {
    "python": {
     "delete_cmd_postfix": "",
     "delete_cmd_prefix": "del ",
     "library": "var_list.py",
     "varRefreshCmd": "print(var_dic_list())"
    },
    "r": {
     "delete_cmd_postfix": ") ",
     "delete_cmd_prefix": "rm(",
     "library": "var_list.r",
     "varRefreshCmd": "cat(var_dic_list()) "
    }
   },
   "types_to_exclude": [
    "module",
    "function",
    "builtin_function_or_method",
    "instance",
    "_Feature"
   ],
   "window_display": false
  }
 },
 "nbformat": 4,
 "nbformat_minor": 5
}
